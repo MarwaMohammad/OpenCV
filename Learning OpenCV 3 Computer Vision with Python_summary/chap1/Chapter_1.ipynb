{
 "cells": [
  {
   "cell_type": "markdown",
   "id": "9df83c6f",
   "metadata": {},
   "source": [
    "# Chapter 1 (Setting Up OpenCV)\n",
    "\n",
    "In this book the author on the following:\n",
    "- What is OpenCV\n",
    "- Installing OpenCV\n",
    "- What are most libraries needed when using OpenCV\n",
    "\n",
    "## What is OpenCV\n",
    "\n",
    "OpenCV stands for Open Source Computer Vision. It is a free computer vision library that allows you to manipulate images and videos to accomplish a variety of tasks from displaying the feed of a webcam to potentially teaching a robot to recognize real-life objects.\n",
    "\n",
    "\n"
   ]
  },
  {
   "cell_type": "markdown",
   "id": "8f5ed39a",
   "metadata": {},
   "source": [
    "## Installing OpenCV\n",
    "This is according to your OS. So, this I will let this to you to search and obtain an appropriate way to your OS. Becuase I am using Anaconda command line from windows, I can tell you,\n",
    "\n",
    "- Create Anaconda Environment ( conda create -n yourenvname python=x.x anaconda )\n",
    "  \n",
    "\n",
    "- Activate Anaconda Environment ( conda activate yourenvname )\n",
    "   \n",
    "\n",
    "- Install OpenCV via the following commands ( pip install opencv-python==3.4.2.17 ,  pip install opencv-contrib-python==3.4.2.17)"
   ]
  },
  {
   "cell_type": "markdown",
   "id": "3b1c45d5",
   "metadata": {},
   "source": [
    "## What are most libraries needed when using OpenCV\n",
    "\n",
    "- NumPy: This library is a dependency of OpenCV's Python bindings. It provides numeric computing functionality, including efficient arrays.\n",
    "\n",
    "- SciPy: This library is a scientific computing library that is closely related to NumPy. It is not required by OpenCV, but it is useful for manipulating data in OpenCV images.\n",
    "\n",
    "- OpenNI: This library is an optional dependency of OpenCV. It adds the support for certain depth cameras, such as Asus XtionPRO.\n",
    "\n",
    "- SensorKinect: This library is an OpenNI plugin and optional dependency of OpenCV. It adds support for the Microsoft Kinect depth camera."
   ]
  },
  {
   "cell_type": "code",
   "execution_count": null,
   "id": "28117717",
   "metadata": {},
   "outputs": [],
   "source": []
  }
 ],
 "metadata": {
  "kernelspec": {
   "display_name": "Python 3 (ipykernel)",
   "language": "python",
   "name": "python3"
  },
  "language_info": {
   "codemirror_mode": {
    "name": "ipython",
    "version": 3
   },
   "file_extension": ".py",
   "mimetype": "text/x-python",
   "name": "python",
   "nbconvert_exporter": "python",
   "pygments_lexer": "ipython3",
   "version": "3.10.0"
  }
 },
 "nbformat": 4,
 "nbformat_minor": 5
}
