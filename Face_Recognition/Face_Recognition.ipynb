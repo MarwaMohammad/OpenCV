{
 "cells": [
  {
   "cell_type": "markdown",
   "metadata": {},
   "source": [
    "# Face Recognition"
   ]
  },
  {
   "cell_type": "code",
   "execution_count": 1,
   "metadata": {},
   "outputs": [],
   "source": [
    "#pip install opencv-contrib-python"
   ]
  },
  {
   "cell_type": "markdown",
   "metadata": {},
   "source": [
    "## Steps:\n",
    "Prepare the training and prediction data with the same way as follows:\n",
    "\n",
    "  1- Read the images and convert it into grey scales.\n",
    "  \n",
    "  2- Face detection to obtain the rectangle of faces or features.\n",
    "  \n",
    "  3- Create object of LBPHFaceRecognizer_create. \n",
    "  \n",
    "  4- Use the object of LBPHFaceRecognizer_create to train the model face_recognizer.train()\n",
    "  \n",
    "  5- To predict repeate the steps 1,2 to prepare the features of prediction.\n",
    "  \n",
    "  6- use the object of LBPHFaceRecognizer_create to train the model to predict face_recognizer.predict()"
   ]
  },
  {
   "cell_type": "code",
   "execution_count": 2,
   "metadata": {},
   "outputs": [],
   "source": [
    "import cv2 as cv\n",
    "import numpy as np\n",
    "import os"
   ]
  },
  {
   "cell_type": "code",
   "execution_count": 3,
   "metadata": {},
   "outputs": [],
   "source": [
    "# Return the following:\n",
    "# directory_ls: paths list for all directries for all training data\n",
    "# label_ls: the names of persons\n",
    "\n",
    "def obtaining_directries(path):\n",
    "    directory_ls = []\n",
    "    label_ls = []\n",
    "    print(path)\n",
    "    for root, dirs, files in os.walk(path, topdown=False):\n",
    "        for name in dirs:\n",
    "            directory_ls.append(os.path.join(root, name))\n",
    "            label_ls.append(name)\n",
    "    return directory_ls, label_ls        \n"
   ]
  },
  {
   "cell_type": "code",
   "execution_count": 18,
   "metadata": {},
   "outputs": [],
   "source": [
    "# Return the path for all images in our dataset\n",
    "def obtaining_image_pathes(directory_ls):\n",
    "    image_path_ls = []\n",
    "\n",
    "    # Obtain images' path\n",
    "    for path in directory_ls:\n",
    "        for image in os.listdir(path):\n",
    "            image_path = os.path.join(path,image)\n",
    "            image_path_ls.append(image_path)\n",
    "    return image_path_ls        \n",
    " \n",
    "    \n",
    "# This function is used to detect faces and return them as features.    \n",
    "def obtaining_features(image_paths):\n",
    "    features = []\n",
    "    image_path_ls = []\n",
    "    image_pixels_ls = []\n",
    "    #Detect the face inside each image\n",
    "    haar_cascade = cv.CascadeClassifier('haarcascade_frontalcatface.xml')\n",
    "\n",
    "    for image_path in image_paths:\n",
    "        \n",
    "        # Read images\n",
    "        image_pixels = cv.imread(image_path)\n",
    "\n",
    "            \n",
    "        # Convert to Grey\n",
    "        gray_pixels = cv.cvtColor(image_pixels, cv.COLOR_BGR2GRAY)\n",
    "        #cv.imshow('gray_pixels', gray_pixels) \n",
    "        #cv.waitKey(0)\n",
    "        # To detect faces use detectMultiScale()\n",
    "        haar_rect = haar_cascade.detectMultiScale(gray_pixels, scaleFactor=1.1, minNeighbors=1, minSize=(20, 20))\n",
    "\n",
    "        for (x,y,w,h) in haar_rect:\n",
    "            face_matrix = gray_pixels[y:y+h, x:x+w] \n",
    "            features.append(face_matrix)\n",
    "            # this to register the image paths of the images which has been only detected.\n",
    "            image_path_ls.append(image_path)\n",
    "            # To add only imges which has been found from face detection\n",
    "            image_pixels_ls.append(image_pixels)\n",
    "\n",
    "\n",
    "            \n",
    "    return features, image_path_ls, image_pixels_ls         \n",
    "\n",
    "# Obtianing the label by cutting it from the path\n",
    "def obtaining_labels(image_path_ls, label_ls):\n",
    "    labels = []\n",
    "    for image_path in image_path_ls:\n",
    "        label = image_path.split('\\\\')[-2]\n",
    "        labels.append(label_ls.index(label))\n",
    "    return labels   \n",
    "    \n",
    "# This methos is udes to call all above function to prepare features and the true lables in case of training and prediction.\n",
    "def prepare_training_and_testing(path):\n",
    "    labels = []\n",
    "    labels_ls = []\n",
    "    directory_ls, label_ls = obtaining_directries(path)\n",
    "    image_paths = obtaining_image_pathes(directory_ls)\n",
    "    features, image_path_ls, image_pixels_ls = obtaining_features(image_paths)\n",
    "    labels   = obtaining_labels(image_path_ls, label_ls)\n",
    "\n",
    "    # Coverting the features and labels into numerical values\n",
    "    #features = np.array(features, dtype='object')\n",
    "    return features, labels, label_ls, image_pixels_ls\n",
    "                \n",
    "    "
   ]
  },
  {
   "cell_type": "code",
   "execution_count": 19,
   "metadata": {},
   "outputs": [],
   "source": [
    "\n",
    "def train ():\n",
    "    training_path = \"D:\\\\Ml_learning\\\\computer vision\\\\coursat-ai\\\\open_cv\\\\Face_Recognition\\\\images\\\\train\"\n",
    "    features, labels, label_ls, image_pixels_ls = prepare_training_and_testing(training_path)\n",
    "    np.save('features.npy', features)\n",
    "    np.save('labels.npy', labels)\n",
    "    print(len(features))\n",
    " \n",
    "    labels = np.array(labels)\n",
    "\n",
    "    #Create an object for face recognizer\n",
    "    face_recognizer = cv.face.LBPHFaceRecognizer_create()\n",
    "    \n",
    "    #Train the recognizer\n",
    "    face_recognizer.train(features, labels)\n",
    "    #save the recognizer\n",
    "    face_recognizer.save('face_model.yml')\n",
    "    \n",
    "    return face_recognizer, label_ls\n",
    "    \n"
   ]
  },
  {
   "cell_type": "code",
   "execution_count": 20,
   "metadata": {},
   "outputs": [
    {
     "name": "stdout",
     "output_type": "stream",
     "text": [
      "D:\\Ml_learning\\computer vision\\coursat-ai\\open_cv\\Face_Recognition\\images\\train\n",
      "82\n"
     ]
    }
   ],
   "source": [
    "face_recognizer, label_ls = train()"
   ]
  },
  {
   "cell_type": "code",
   "execution_count": 31,
   "metadata": {},
   "outputs": [],
   "source": [
    "\n",
    "# Here we try to predict the image labels.\n",
    "def predict():\n",
    "    validation_path = \"D:\\\\Ml_learning\\\\computer vision\\\\coursat-ai\\\\open_cv\\\\Face_Recognition\\\\images\\\\val\"\n",
    "    features, labels, real_labels, image_pixels_ls = prepare_training_and_testing(validation_path)\n",
    "        \n",
    "    try:\n",
    "        for i in range(len(features)):\n",
    "            #cv.imshow('face recognition', image_pixels_ls[i])\n",
    "            #cv.waitKey(0)\n",
    "            if features[i] is not None:\n",
    "                label, confidence = face_recognizer.predict(features[i])\n",
    "                print('The real label',str(real_labels[labels[i]]),'\\n The expected label is',label, '\\n with confidence',confidence, '\\n')\n",
    "\n",
    "            \n",
    "    except e:\n",
    "        pass\n",
    "    "
   ]
  },
  {
   "cell_type": "code",
   "execution_count": 32,
   "metadata": {},
   "outputs": [
    {
     "name": "stdout",
     "output_type": "stream",
     "text": [
      "D:\\Ml_learning\\computer vision\\coursat-ai\\open_cv\\Face_Recognition\\images\\val\n",
      "The real label Erdogan \n",
      " The expected label is 1 \n",
      " with confidence 73.60399156766219 \n",
      "\n",
      "The real label Erdogan \n",
      " The expected label is 4 \n",
      " with confidence 141.80304811586012 \n",
      "\n",
      "The real label Erdogan \n",
      " The expected label is 1 \n",
      " with confidence 116.33374781563396 \n",
      "\n"
     ]
    }
   ],
   "source": [
    "predict()"
   ]
  },
  {
   "cell_type": "code",
   "execution_count": null,
   "metadata": {},
   "outputs": [],
   "source": []
  },
  {
   "cell_type": "code",
   "execution_count": null,
   "metadata": {},
   "outputs": [],
   "source": []
  }
 ],
 "metadata": {
  "kernelspec": {
   "display_name": "Python 3",
   "language": "python",
   "name": "python3"
  },
  "language_info": {
   "codemirror_mode": {
    "name": "ipython",
    "version": 3
   },
   "file_extension": ".py",
   "mimetype": "text/x-python",
   "name": "python",
   "nbconvert_exporter": "python",
   "pygments_lexer": "ipython3",
   "version": "3.8.8"
  }
 },
 "nbformat": 4,
 "nbformat_minor": 4
}
